{
 "cells": [
  {
   "cell_type": "code",
   "execution_count": 1,
   "id": "ea12fdd5-2b75-4489-9b31-c72b76ee3856",
   "metadata": {},
   "outputs": [],
   "source": [
    "import torch\n",
    "import torch.nn as nn\n",
    "import torch.optim as optim\n",
    "import torchvision\n",
    "import torchvision.transforms as transforms\n",
    "import matplotlib.pyplot as plt"
   ]
  },
  {
   "cell_type": "code",
   "execution_count": 2,
   "id": "10e4b82f-fc1c-4c64-ba53-3b0713afa4f6",
   "metadata": {},
   "outputs": [],
   "source": [
    "#Load The DataSet\n",
    "#Transform used in Loading data set Function\n",
    "#First we are converting images to tensors(Multi_dimensional Array) and Then normalizing it (-1,1)\n",
    "#It might have 0-255 value, mormalizing it helps in accuracy\n",
    "transform = transforms.Compose([\n",
    "    transforms.ToTensor(),\n",
    "    transforms.Normalize((0.5,), (0.5,))  \n",
    "])\n",
    "  "
   ]
  },
  {
   "cell_type": "code",
   "execution_count": 3,
   "id": "6da885f6-2f04-4024-a7f2-73ba99e2355b",
   "metadata": {},
   "outputs": [],
   "source": [
    "# Will use pre-loaded data set (MINST). root -->directory train(will define train data or test data)\n",
    "# transform function will be called to process the picked images\n",
    "trainset = torchvision.datasets.MNIST(root='./data', train=True, download=True, transform=transform)\n",
    "testset = torchvision.datasets.MNIST(root='./data', train=False, download=True, transform=transform)"
   ]
  },
  {
   "cell_type": "code",
   "execution_count": 4,
   "id": "c6ca2e2d-d556-4544-a0e7-ea0a9ac13cf0",
   "metadata": {},
   "outputs": [],
   "source": [
    "#To Load the images, here we define the no of images in each batch\n",
    "#shuffling helpes to improve accuracy\n",
    "trainloader = torch.utils.data.DataLoader(trainset, batch_size=32, shuffle=True)\n",
    "testloader = torch.utils.data.DataLoader(testset, batch_size=32, shuffle=False)\n"
   ]
  },
  {
   "cell_type": "code",
   "execution_count": 5,
   "id": "f621f713-9d33-4463-8235-763a92d96dba",
   "metadata": {},
   "outputs": [
    {
     "name": "stdout",
     "output_type": "stream",
     "text": [
      "Training dataset size: 1875\n",
      "Testing dataset size: 313\n"
     ]
    }
   ],
   "source": [
    "print(f'Training dataset size: {len(trainloader)}')\n",
    "print(f'Testing dataset size: {len(testloader)}')"
   ]
  },
  {
   "cell_type": "code",
   "execution_count": 6,
   "id": "8b4636ce-bf8c-4591-b850-84dfbef96277",
   "metadata": {},
   "outputs": [],
   "source": [
    "class CNN(nn.Module):\n",
    "    def __init__(self):\n",
    "        super(CNN, self).__init__()\n",
    "        #Added 3 convolution layers to improve accuracy)\n",
    "        #greyscale image has 1 input and out channels depend on the filter used\n",
    "        #padding - extra pixel added to image\n",
    "        self.conv1 = nn.Conv2d(in_channels=1, out_channels=32, kernel_size=3, padding=1)\n",
    "        self.conv2 = nn.Conv2d(in_channels=32, out_channels=64, kernel_size=3, padding=1)\n",
    "        self.conv3 = nn.Conv2d(in_channels=64, out_channels=128, kernel_size=3, padding=1)  \n",
    "\n",
    "        #output matrix divided into 2*2 for tiled-matrix operations\n",
    "        self.pool = nn.MaxPool2d(2, 2) \n",
    "\n",
    "        #Now the tiled matrix is passed to fully_connected layers to get output\n",
    "        #here we pass all the cnn layer generated matrix and define the out feautures(128 feautre maps with 3*3 size)\n",
    "        #the next layer defines that 10 diff class are in the 128 out features of previous layer\n",
    "        self.fc1 = nn.Linear(128 * 3 * 3, 128) \n",
    "        self.fc2 = nn.Linear(128, 10)\n",
    "\n",
    "    def forward(self, x):\n",
    "       #pooling reduces the dimension of formed matrix\n",
    "        x = self.pool(torch.relu(self.conv1(x)))\n",
    "        x = self.pool(torch.relu(self.conv2(x)))\n",
    "        x = self.pool(torch.relu(self.conv3(x))) \n",
    "\n",
    "        # multi - dimensional array to one dimensional array\n",
    "        x = x.view(-1, 128 * 3 * 3)\n",
    "\n",
    "        # call fully connected layers\n",
    "        x = torch.relu(self.fc1(x))\n",
    "        x = self.fc2(x)  \n",
    "        return x"
   ]
  },
  {
   "cell_type": "code",
   "execution_count": 7,
   "id": "0e23342c-9e3a-4fa3-b151-ca32ce6340c8",
   "metadata": {},
   "outputs": [],
   "source": [
    "# Initiate the model(defined earlier) and defining of loss function\n",
    "model = CNN()\n",
    "criterion = nn.CrossEntropyLoss()\n",
    "#learning rate will be increased to 0.01 to increase speed\n",
    "optimizer = optim.Adam(model.parameters(), lr=0.01)"
   ]
  },
  {
   "cell_type": "code",
   "execution_count": 8,
   "id": "1a16931c-65cd-4095-b304-1896f518746f",
   "metadata": {},
   "outputs": [],
   "source": [
    "# Training function(this calls all the initialized values)\n",
    "def train_model(model, trainloader, criterion, optimizer, num_epochs=5):\n",
    "    for epoch in range(num_epochs):\n",
    "        running_loss = 0.0\n",
    "        for i, (inputs, labels) in enumerate(trainloader):\n",
    "            optimizer.zero_grad() \n",
    "            #now we pass our input to the model\n",
    "            outputs = model(inputs)  \n",
    "            #based on the output loss is computed and bias is altered\n",
    "            loss = criterion(outputs, labels)  \n",
    "            #now passed back again for best accuracy\n",
    "            loss.backward()  \n",
    "            #weights are updated here\n",
    "            optimizer.step()  \n",
    "\n",
    "            running_loss += loss.item()\n",
    "            #to print statistics every 100 batches\n",
    "            #total 5 epochs---36 image in a batch\n",
    "            if i % 100 == 99:  \n",
    "                print(f'Epoch [{epoch + 1}/{num_epochs}], Step [{i + 1}/{len(trainloader)}], Loss: {running_loss / 100:.4f}')\n",
    "                running_loss = 0.0"
   ]
  },
  {
   "cell_type": "code",
   "execution_count": 9,
   "id": "030eeb9d-5a6d-43a9-a0f5-ccb442e5860f",
   "metadata": {},
   "outputs": [
    {
     "name": "stdout",
     "output_type": "stream",
     "text": [
      "Epoch [1/5], Step [100/1875], Loss: 1.6289\n",
      "Epoch [1/5], Step [200/1875], Loss: 0.4725\n",
      "Epoch [1/5], Step [300/1875], Loss: 0.3510\n",
      "Epoch [1/5], Step [400/1875], Loss: 0.3183\n",
      "Epoch [1/5], Step [500/1875], Loss: 0.2609\n",
      "Epoch [1/5], Step [600/1875], Loss: 0.2363\n",
      "Epoch [1/5], Step [700/1875], Loss: 0.2164\n",
      "Epoch [1/5], Step [800/1875], Loss: 0.2264\n",
      "Epoch [1/5], Step [900/1875], Loss: 0.2022\n",
      "Epoch [1/5], Step [1000/1875], Loss: 0.1917\n",
      "Epoch [1/5], Step [1100/1875], Loss: 0.2151\n",
      "Epoch [1/5], Step [1200/1875], Loss: 0.2213\n",
      "Epoch [1/5], Step [1300/1875], Loss: 0.2097\n",
      "Epoch [1/5], Step [1400/1875], Loss: 0.2117\n",
      "Epoch [1/5], Step [1500/1875], Loss: 0.1785\n",
      "Epoch [1/5], Step [1600/1875], Loss: 0.1877\n",
      "Epoch [1/5], Step [1700/1875], Loss: 0.1841\n",
      "Epoch [1/5], Step [1800/1875], Loss: 0.1992\n",
      "Epoch [2/5], Step [100/1875], Loss: 0.1461\n",
      "Epoch [2/5], Step [200/1875], Loss: 0.1628\n",
      "Epoch [2/5], Step [300/1875], Loss: 0.1865\n",
      "Epoch [2/5], Step [400/1875], Loss: 0.1873\n",
      "Epoch [2/5], Step [500/1875], Loss: 0.1771\n",
      "Epoch [2/5], Step [600/1875], Loss: 0.1502\n",
      "Epoch [2/5], Step [700/1875], Loss: 0.1614\n",
      "Epoch [2/5], Step [800/1875], Loss: 0.1653\n",
      "Epoch [2/5], Step [900/1875], Loss: 0.1759\n",
      "Epoch [2/5], Step [1000/1875], Loss: 0.2007\n",
      "Epoch [2/5], Step [1100/1875], Loss: 0.1931\n",
      "Epoch [2/5], Step [1200/1875], Loss: 0.1748\n",
      "Epoch [2/5], Step [1300/1875], Loss: 0.1879\n",
      "Epoch [2/5], Step [1400/1875], Loss: 0.1748\n",
      "Epoch [2/5], Step [1500/1875], Loss: 0.1920\n",
      "Epoch [2/5], Step [1600/1875], Loss: 0.1794\n",
      "Epoch [2/5], Step [1700/1875], Loss: 0.1715\n",
      "Epoch [2/5], Step [1800/1875], Loss: 0.1848\n",
      "Epoch [3/5], Step [100/1875], Loss: 0.1500\n",
      "Epoch [3/5], Step [200/1875], Loss: 0.1666\n",
      "Epoch [3/5], Step [300/1875], Loss: 0.1486\n",
      "Epoch [3/5], Step [400/1875], Loss: 0.1925\n",
      "Epoch [3/5], Step [500/1875], Loss: 0.1865\n",
      "Epoch [3/5], Step [600/1875], Loss: 0.1870\n",
      "Epoch [3/5], Step [700/1875], Loss: 0.1452\n",
      "Epoch [3/5], Step [800/1875], Loss: 0.1412\n",
      "Epoch [3/5], Step [900/1875], Loss: 0.1637\n",
      "Epoch [3/5], Step [1000/1875], Loss: 0.1664\n",
      "Epoch [3/5], Step [1100/1875], Loss: 0.1938\n",
      "Epoch [3/5], Step [1200/1875], Loss: 0.1666\n",
      "Epoch [3/5], Step [1300/1875], Loss: 0.1645\n",
      "Epoch [3/5], Step [1400/1875], Loss: 0.1636\n",
      "Epoch [3/5], Step [1500/1875], Loss: 0.2122\n",
      "Epoch [3/5], Step [1600/1875], Loss: 0.1579\n",
      "Epoch [3/5], Step [1700/1875], Loss: 0.1933\n",
      "Epoch [3/5], Step [1800/1875], Loss: 0.1840\n",
      "Epoch [4/5], Step [100/1875], Loss: 0.1785\n",
      "Epoch [4/5], Step [200/1875], Loss: 0.1494\n",
      "Epoch [4/5], Step [300/1875], Loss: 0.1598\n",
      "Epoch [4/5], Step [400/1875], Loss: 0.1498\n",
      "Epoch [4/5], Step [500/1875], Loss: 0.1751\n",
      "Epoch [4/5], Step [600/1875], Loss: 0.1434\n",
      "Epoch [4/5], Step [700/1875], Loss: 0.1652\n",
      "Epoch [4/5], Step [800/1875], Loss: 0.1761\n",
      "Epoch [4/5], Step [900/1875], Loss: 0.1686\n",
      "Epoch [4/5], Step [1000/1875], Loss: 0.1746\n",
      "Epoch [4/5], Step [1100/1875], Loss: 0.1522\n",
      "Epoch [4/5], Step [1200/1875], Loss: 0.1996\n",
      "Epoch [4/5], Step [1300/1875], Loss: 0.1791\n",
      "Epoch [4/5], Step [1400/1875], Loss: 0.1618\n",
      "Epoch [4/5], Step [1500/1875], Loss: 0.1828\n",
      "Epoch [4/5], Step [1600/1875], Loss: 0.1656\n",
      "Epoch [4/5], Step [1700/1875], Loss: 0.1716\n",
      "Epoch [4/5], Step [1800/1875], Loss: 0.1527\n",
      "Epoch [5/5], Step [100/1875], Loss: 0.1305\n",
      "Epoch [5/5], Step [200/1875], Loss: 0.1501\n",
      "Epoch [5/5], Step [300/1875], Loss: 0.1837\n",
      "Epoch [5/5], Step [400/1875], Loss: 0.1488\n",
      "Epoch [5/5], Step [500/1875], Loss: 0.1535\n",
      "Epoch [5/5], Step [600/1875], Loss: 0.1523\n",
      "Epoch [5/5], Step [700/1875], Loss: 0.1465\n",
      "Epoch [5/5], Step [800/1875], Loss: 0.1581\n",
      "Epoch [5/5], Step [900/1875], Loss: 0.1555\n",
      "Epoch [5/5], Step [1000/1875], Loss: 0.1875\n",
      "Epoch [5/5], Step [1100/1875], Loss: 0.1732\n",
      "Epoch [5/5], Step [1200/1875], Loss: 0.1804\n",
      "Epoch [5/5], Step [1300/1875], Loss: 0.1622\n",
      "Epoch [5/5], Step [1400/1875], Loss: 0.1469\n",
      "Epoch [5/5], Step [1500/1875], Loss: 0.1672\n",
      "Epoch [5/5], Step [1600/1875], Loss: 0.1433\n",
      "Epoch [5/5], Step [1700/1875], Loss: 0.1469\n",
      "Epoch [5/5], Step [1800/1875], Loss: 0.1534\n"
     ]
    }
   ],
   "source": [
    "train_model(model, trainloader, criterion, optimizer, num_epochs=5)"
   ]
  },
  {
   "cell_type": "code",
   "execution_count": 10,
   "id": "4e4a25ea-f7a4-47b8-a9d6-ab646fd5a338",
   "metadata": {},
   "outputs": [],
   "source": [
    "# Function to evaluate the accuracy on test data\n",
    "def evaluate_model(model, testloader):\n",
    "    correct = 0\n",
    "    total = 0\n",
    "    #now we start evaluation\n",
    "    model.eval() \n",
    "    #no gradients compute-->saves time\n",
    "    with torch.no_grad(): \n",
    "        for inputs, labels in testloader:\n",
    "            outputs = model(inputs)\n",
    "            _, predicted = torch.max(outputs.data, 1)\n",
    "            total += labels.size(0)\n",
    "            correct += (predicted == labels).sum().item()\n",
    "\n",
    "    print(f'Accuracy of the model on the test images: {100 * correct / total:.2f}%')"
   ]
  },
  {
   "cell_type": "code",
   "execution_count": 12,
   "id": "0b2b6fb4-f65f-4036-b4a6-422a46e3d562",
   "metadata": {},
   "outputs": [
    {
     "name": "stdout",
     "output_type": "stream",
     "text": [
      "Accuracy of the model on the test images: 95.98%\n"
     ]
    }
   ],
   "source": [
    "# Call evaluate function and save it\n",
    "evaluate_model(model, testloader)\n",
    "\n",
    "\n",
    "torch.save(model.state_dict(), 'digitClassification_Rohith.pth')\n",
    " "
   ]
  }
 ],
 "metadata": {
  "kernelspec": {
   "display_name": "Python 3 (ipykernel)",
   "language": "python",
   "name": "python3"
  },
  "language_info": {
   "codemirror_mode": {
    "name": "ipython",
    "version": 3
   },
   "file_extension": ".py",
   "mimetype": "text/x-python",
   "name": "python",
   "nbconvert_exporter": "python",
   "pygments_lexer": "ipython3",
   "version": "3.10.12"
  }
 },
 "nbformat": 4,
 "nbformat_minor": 5
}
